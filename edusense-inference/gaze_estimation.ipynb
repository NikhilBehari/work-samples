{
  "nbformat": 4,
  "nbformat_minor": 0,
  "metadata": {
    "colab": {
      "name": "gaze_estimation.ipynb",
      "provenance": []
    },
    "kernelspec": {
      "name": "python3",
      "display_name": "Python 3"
    }
  },
  "cells": [
    {
      "cell_type": "markdown",
      "metadata": {
        "id": "gqOhPThjHA-2"
      },
      "source": [
        "#### Gaze estimation using DeepGaze"
      ]
    },
    {
      "cell_type": "code",
      "metadata": {
        "id": "CGLfkSQ3IQqj"
      },
      "source": [
        "from deepgaze.head_pose_estimation import CnnHeadPoseEstimator\n",
        "import cv2\n",
        "import numpy as np\n",
        "import os\n",
        "import tensorflow as tf"
      ],
      "execution_count": null,
      "outputs": []
    },
    {
      "cell_type": "code",
      "metadata": {
        "id": "OOt1RcWhIbKh"
      },
      "source": [
        "# Rotation matrix\n",
        "# Source: https://github.com/mpatacchiola/deepgaze/issues/43\n",
        "def yaw2rotmat(yaw):\n",
        "    x = 0.0\n",
        "    y = 0.0\n",
        "    z = yaw\n",
        "    ch = np.cos(z)\n",
        "    sh = np.sin(z)\n",
        "    ca = np.cos(y)\n",
        "    sa = np.sin(y)\n",
        "    cb = np.cos(x)\n",
        "    sb = np.sin(x)\n",
        "    rot = np.zeros((3,3), 'float32')\n",
        "    rot[0][0] = ch * ca\n",
        "    rot[0][1] = sh*sb - ch*sa*cb\n",
        "    rot[0][2] = ch*sa*sb + sh*cb\n",
        "    rot[1][0] = sa\n",
        "    rot[1][1] = ca * cb\n",
        "    rot[1][2] = -ca * sb\n",
        "    rot[2][0] = -sh * ca\n",
        "    rot[2][1] = sh*sa*cb + ch*sb\n",
        "    rot[2][2] = -sh*sa*sb + ch*cb\n",
        "    return rot"
      ],
      "execution_count": null,
      "outputs": []
    },
    {
      "cell_type": "code",
      "metadata": {
        "id": "HeozSgStIfjW"
      },
      "source": [
        "def estimatorConfig():\n",
        "  is_cuda_set = os.getenv('CUDA_VISIBLE_DEVICES')\n",
        "  if is_cuda_set is None:\n",
        "      os.environ['CUDA_VISIBLE_DEVICES'] = '-1'\n",
        "\n",
        "  gpu = False\n",
        "  if tf.test.gpu_device_name():\n",
        "      print('GPU found')\n",
        "      gpu = True\n",
        "  else:\n",
        "      print(\"No GPU found\")\n",
        "\n",
        "  config = tf.ConfigProto(allow_soft_placement=True)\n",
        "  if gpu:\n",
        "      config.gpu_options.per_process_gpu_memory_fraction = 0.5\n",
        "  tf_session = tf.Session(config=config) \n",
        "  estimator = CnnHeadPoseEstimator(tf_session) \n",
        "\n",
        "  model_dir = os.getenv('MODEL_DIR', './models')\n",
        "  estimator.load_yaw_variables(os.path.join(model_dir, 'headpose', 'yaw', 'cnn_cccdd_30k.tf'))\n",
        "  estimator.load_pitch_variables(os.path.join(model_dir, 'headpose', 'pitch', 'cnn_cccdd_30k.tf')) \n",
        "  estimator.load_roll_variables(os.path.join(model_dir, 'headpose', 'roll', 'cnn_cccdd_30k.tf'))\n",
        "\n",
        "  return estimator"
      ],
      "execution_count": null,
      "outputs": []
    },
    {
      "cell_type": "code",
      "metadata": {
        "id": "jBIU4vEMGvRA"
      },
      "source": [
        "def get_head_pose_vector(estimator, image, face):\n",
        "    c_x = image.shape[1] / 2\n",
        "    c_y = image.shape[0] / 2\n",
        "    f_x = c_x / np.tan(60/2 * np.pi / 180)\n",
        "    f_y = f_x\n",
        "    camera_matrix = np.float32([[f_x, 0.0, c_x],\n",
        "                                [0.0, f_y, c_y],\n",
        "                                [0.0, 0.0, 1.0] ])\n",
        "\n",
        "    # define axis for footage overlay if desired\n",
        "    axis = np.float32([[0.0, 0.0, 0.0],\n",
        "                       [0.0, 0.0, 0.0],\n",
        "                       [0.0, 0.0, 0.5]])\n",
        "    # rotation matrix using DeepGaze convention\n",
        "    rot_matrix = yaw2rotmat(-yaw[0,0,0])\n",
        "\n",
        "    roll_degree = estimator.return_roll(image, radians=False)  \n",
        "    pitch_degree = estimator.return_pitch(image, radians=False)  \n",
        "    yaw_degree = estimator.return_yaw(image, radians=False)  \n",
        "\n",
        "    roll = np.deg2rad(roll_degree)\n",
        "    pitch = np.deg2rad(pitch_degree)\n",
        "    yaw = np.deg2rad(yaw_degree)\n",
        "\n",
        "    return (roll, pitch, yaw)"
      ],
      "execution_count": null,
      "outputs": []
    }
  ]
}