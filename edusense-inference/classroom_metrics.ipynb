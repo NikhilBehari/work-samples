{
  "nbformat": 4,
  "nbformat_minor": 0,
  "metadata": {
    "colab": {
      "name": "classroom_metrics.ipynb",
      "provenance": []
    },
    "kernelspec": {
      "name": "python3",
      "display_name": "Python 3"
    }
  },
  "cells": [
    {
      "cell_type": "markdown",
      "metadata": {
        "id": "04BcJyeMEzV1"
      },
      "source": [
        "#### Classroom metrics analysis"
      ]
    },
    {
      "cell_type": "code",
      "metadata": {
        "id": "KutY2EXhC45F"
      },
      "source": [
        "from PIL import Image, ImageDraw\n",
        "from datetime import date\n",
        "from io import BytesIO\n",
        "from pandas import DataFrame\n",
        "from scipy import stats\n",
        "from sklearn import preprocessing\n",
        "from sklearn.cluster import DBSCAN\n",
        "from sklearn.cluster import KMeans\n",
        "from sshtunnel import SSHTunnelForwarder\n",
        "import base64\n",
        "import json\n",
        "import math\n",
        "import math\n",
        "import matplotlib.pyplot as plt\n",
        "import numpy as np\n",
        "import pandas as pd\n",
        "import pprint\n",
        "import pymongo\n",
        "import seaborn as sns; sns.set()\n",
        "import statistics"
      ],
      "execution_count": null,
      "outputs": []
    },
    {
      "cell_type": "code",
      "metadata": {
        "id": "KRJ6V-JXE9C3"
      },
      "source": [
        "print(\"Connecting to MongoDB...\")\n",
        "\n",
        "MONGO_HOST = \"\"\n",
        "MONGO_DB = \"\"\n",
        "MONGO_USER = \"\"\n",
        "MONGO_PASS = \"\"\n",
        "\n",
        "server = SSHTunnelForwarder(\n",
        "    MONGO_HOST,\n",
        "    ssh_username=MONGO_USER,\n",
        "    ssh_password=MONGO_PASS,\n",
        "    remote_bind_address=('127.0.0.1', 27017)\n",
        ")\n",
        "\n",
        "server.start()\n",
        "# local port connection\n",
        "client = pymongo.MongoClient('127.0.0.1', server.local_bind_port)\n",
        "db = client[MONGO_DB]\n",
        "print(\"\\033[92mConnection successful\\033[0m\")\n",
        "\n",
        "collection = db['']"
      ],
      "execution_count": null,
      "outputs": []
    },
    {
      "cell_type": "code",
      "metadata": {
        "id": "_c1rLoM4FbaE"
      },
      "source": [
        "def stuEngagement(video_collections):\n",
        "  all_arms_cross = []\n",
        "  all_hands_face = []\n",
        "  all_hands_raised = []\n",
        "\n",
        "  for v_col in video_collections:\n",
        "      collection = db[v_col]\n",
        "      arms_cross = 0\n",
        "      hands_on_face = 0\n",
        "      hands_raised = 0\n",
        "      frames = collection.find({\"channel\": \"student\"})\n",
        "\n",
        "      for frame in frames:\n",
        "          frame_num = frame[\"frameNumber\"]\n",
        "          num_errors = 0\n",
        "          try:\n",
        "              for person in frame[\"people\"]:\n",
        "                  if person[\"inference\"][\"posture\"][\"armPose\"] == \"armsCrossed\":\n",
        "                      arms_cross += 1\n",
        "                  if person[\"inference\"][\"posture\"][\"armPose\"] == \"handsOnFace\":\n",
        "                      hands_on_face +=1\n",
        "                  if person[\"inference\"][\"posture\"][\"armPose\"] == \"handsRaised\":\n",
        "                      hands_raised +=1\n",
        "          except:\n",
        "              num_errors += 1   \n",
        "\n",
        "\n",
        "      all_arms_cross.append(arms_cross)\n",
        "      all_hands_face.append(hands_on_face)\n",
        "      all_hands_raised.append(hands_raised)\n",
        "\n",
        "  return (all_arms_cross, all_hands_face, all_hands_raised)"
      ],
      "execution_count": null,
      "outputs": []
    },
    {
      "cell_type": "code",
      "metadata": {
        "id": "vFoqkC8IF9WL"
      },
      "source": [
        "def attendance(video_collections):\n",
        "  all_attendances = []\n",
        "\n",
        "  for v_col in video_collections:\n",
        "      collection = db[v_col]\n",
        "      attendance = 0\n",
        "      frame_maxstus = 0\n",
        "      frames = collection.find({\"channel\": \"student\"})\n",
        "\n",
        "      for frame in frames:\n",
        "          frame_num = frame[\"frameNumber\"]\n",
        "          num_errors = 0\n",
        "          try:\n",
        "              num_stus = len(frame[\"people\"])\n",
        "              if(num_stus > attendance):\n",
        "                  attendance = num_stus\n",
        "                  frame_maxstus = frame_num\n",
        "          except:\n",
        "              num_errors += 1   \n",
        "      all_attendances.append(attendance)\n",
        "\n",
        "  return all_attendances"
      ],
      "execution_count": null,
      "outputs": []
    },
    {
      "cell_type": "code",
      "metadata": {
        "id": "FsR7xKXCFuzB"
      },
      "source": [
        "def simpleTrends():\n",
        "  # compute simple metrics using regression analysis \n",
        "  metrics_insights = []\n",
        "  metrics_insights.append(str(statistics.median(all_attendances)))\n",
        "  metrics_insights.append(str(round(statistics.mean(all_hands_raised), 2)))\n",
        "\n",
        "  movement_insights = []\n",
        "  rec_ind = list(range(len(all_attendances)))\n",
        "  coeffs = np.polyfit(rec_ind, all_mov_stdev, 1)\n",
        "  slope = coeffs[-2]\n",
        "  if slope < -0.5:\n",
        "      movement_insights.append(\"mtd\")\n",
        "  elif slope > 0.5:\n",
        "      movement_insights.append(\"mtu\")\n",
        "  else:\n",
        "      movement_insights.append(\"mtc\")\n",
        "      \n",
        "  gaze_insights = []\n",
        "  rec_ind = list(range(len(all_attendances)))\n",
        "  coeffs = np.polyfit(rec_ind, all_gaze_stdev, 1)\n",
        "  slope = coeffs[-2]\n",
        "  if slope < -0.5:\n",
        "      gaze_insights.append(\"gtd\")\n",
        "  elif slope > 0.5:\n",
        "      gaze_insights.append(\"gtu\")\n",
        "  else:\n",
        "      gaze_insights.append(\"gtc\")\n",
        "\n",
        "  return (metrics_insights, movement_insights, gaze_insights)"
      ],
      "execution_count": null,
      "outputs": []
    }
  ]
}