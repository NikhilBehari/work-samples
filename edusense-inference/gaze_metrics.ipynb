{
  "nbformat": 4,
  "nbformat_minor": 0,
  "metadata": {
    "colab": {
      "name": "gaze_inference.ipynb",
      "provenance": []
    },
    "kernelspec": {
      "name": "python3",
      "display_name": "Python 3"
    }
  },
  "cells": [
    {
      "cell_type": "markdown",
      "metadata": {
        "id": "Lykk1ZpAgUYw"
      },
      "source": [
        "#### Gaze Inference\n",
        "Add inference about gaze distributions to EduSense video pipeline. "
      ]
    },
    {
      "cell_type": "code",
      "metadata": {
        "id": "LlbDsf0OcriR"
      },
      "source": [
        "! pip install sshtunnel\n",
        "from sshtunnel import SSHTunnelForwarder\n",
        "import pymongo\n",
        "import urllib\n",
        "import pprint\n",
        "import base64\n",
        "from io import BytesIO\n",
        "\n",
        "from PIL import Image, ImageDraw\n",
        "import matplotlib.pyplot as plt\n",
        "import pandas as pd\n",
        "import numpy as np\n",
        "import math\n",
        "import json"
      ],
      "execution_count": null,
      "outputs": []
    },
    {
      "cell_type": "markdown",
      "metadata": {
        "id": "isYzEXxSf0xs"
      },
      "source": [
        "Define server constants"
      ]
    },
    {
      "cell_type": "code",
      "metadata": {
        "id": "JW5X_nHgdl4L"
      },
      "source": [
        "MONGO_HOST = \"\"\n",
        "MONGO_DB = \"\"\n",
        "MONGO_USER = \"\"\n",
        "MONGO_PASS = \"\"\n",
        "VIDEO_ID = \"\""
      ],
      "execution_count": 4,
      "outputs": []
    },
    {
      "cell_type": "code",
      "metadata": {
        "id": "FCySzzTOf5hX"
      },
      "source": [
        "print(\"Connecting to MongoDB...\")\n",
        "\n",
        "server = SSHTunnelForwarder(\n",
        "    MONGO_HOST,\n",
        "    ssh_username=MONGO_USER,\n",
        "    ssh_password=MONGO_PASS,\n",
        "    remote_bind_address=('127.0.0.1', 27017) # change to 3000/3001\n",
        ")\n",
        "server.start()\n",
        "# local port connection\n",
        "\n",
        "try:\n",
        "    client = pymongo.MongoClient('127.0.0.1', server.local_bind_port)\n",
        "    db = client[MONGO_DB]\n",
        "    collection = db[VIDEO_ID]\n",
        "    print(\"\\033[92mConnection successful\\033[0m\")\n",
        "except: \n",
        "    print(\"Error connecting to database\")"
      ],
      "execution_count": null,
      "outputs": []
    },
    {
      "cell_type": "markdown",
      "metadata": {
        "id": "p5IvfCz_-Rqo"
      },
      "source": [
        "#### Instructor gaze inference"
      ]
    },
    {
      "cell_type": "code",
      "metadata": {
        "id": "PncRlEQCgB_i"
      },
      "source": [
        "def getInstructorGaze(collection, subject = \"student\", return_errors = False):\n",
        "\n",
        "    gaze_df = pd.DataFrame(columns=['sx', 'sy', 'tx', 'ty', 'fr', 'thumb'])\n",
        "    num_errors = 0\n",
        "    gaze_vec = []\n",
        "    \n",
        "    for frame in collection:\n",
        "        if frame[\"channel\"] == \"student\":\n",
        "            frame_num = frame[\"frameNumber\"]\n",
        "            item[\"thumbnail\"]['binary']\n",
        "            for person in frame[\"people\"]:\n",
        "                try:\n",
        "                    gaze_vec = person[\"inference\"][\"head\"][\"gazeVector\"]\n",
        "                    angle = (person[\"inference\"][\"head\"][\"yaw\"])\n",
        "                    source = person[\"inference\"][\"head\"][\"gazeVector\"]\n",
        "                    \n",
        "                    x1, y1 = source[0]\n",
        "                    line_length = 100\n",
        "                    (y2,x2) = (y1 + line_length*math.cos(math.radians(angle)),x1 + line_length*math.sin(math.radians(angle))*-1)\n",
        "                    y2, x2 = y2, x2\n",
        "                    gaze_vec = [[x1, y1], [x2, y2]]\n",
        "                    \n",
        "                except:\n",
        "                    num_errors += 1\n",
        "\n",
        "                if(len(gaze_vec) == 2):\n",
        "                    temp_vec = pd.DataFrame([np.append(np.append((1/16)*np.array(gaze_vec[0]), \n",
        "                                                                 (1/16)*np.array(gaze_vec[1])), frame_num)], \n",
        "                                            columns=['sx', 'sy', 'tx', 'ty', 'fr'])\n",
        "                    gaze_df.loc[len(gaze_df)] = temp_vec.loc[0]\n",
        "\n",
        "                else: \n",
        "                    num_errors += 1\n",
        "    if(return_errors):\n",
        "        return num_errors\n",
        "    return gaze_df"
      ],
      "execution_count": null,
      "outputs": []
    },
    {
      "cell_type": "code",
      "metadata": {
        "id": "Rpo8jUYEi59S"
      },
      "source": [
        "def orthog(x) :\n",
        "    y = np.empty_like(x)\n",
        "    y[0] = -x[1]\n",
        "    y[1] = x[0]\n",
        "    return(y)\n",
        "\n",
        "def vec_intersect(x_1,x_2,y_1,y_2) :\n",
        "    dap = orthog(x_2-x_1)\n",
        "    denom = np.dot( dap, (y_2-y_1))\n",
        "    num = np.dot( dap, (x_1-y_1) )\n",
        "    return ((num / denom.astype(float))*(y_2-y_1)+y_1)\n",
        "\n",
        "def bucketGaze(v, bounds, dist = False):\n",
        "    b_sx = np.array( [v.sx, v.sy] )\n",
        "    b_sy = np.array( [v.tx, v.ty] )\n",
        "    b_tx = np.array( [0, 80] )\n",
        "    b_ty = np.array( [300, 80] )\n",
        "    intersect_pt = vec_intersect( b_sx,b_sy, b_tx,b_ty )\n",
        "    \n",
        "    if dist \n",
        "      return(intersect_pt[0])\n",
        "\n",
        "    else: \n",
        "      bucket = 'C'\n",
        "      if(intersect_pt[0] < bounds[0]):\n",
        "          bucket = 'L'\n",
        "      elif(intersect_pt[0] < bounds[1]):\n",
        "          bucket = 'C'\n",
        "      else:\n",
        "          bucket = 'R'\n",
        "      return(bucket)"
      ],
      "execution_count": null,
      "outputs": []
    },
    {
      "cell_type": "code",
      "metadata": {
        "id": "mVLFBF0pj98M"
      },
      "source": [
        "db_coll = collection.find({\"people.0.inference\": {\"$exists\": True}})\n",
        "\n",
        "stu_gaze_data = getGazeData(db_coll, \n",
        "                            subject=\"student\", \n",
        "                            return_errors=False)\n",
        "\n",
        "ins_gaze_data = getGazeData(db_coll, \n",
        "                            subject=\"instructor\", \n",
        "                            return_errors=False)"
      ],
      "execution_count": null,
      "outputs": []
    },
    {
      "cell_type": "markdown",
      "metadata": {
        "id": "Jts04ZHd-f6O"
      },
      "source": [
        "#### Student gaze inference"
      ]
    },
    {
      "cell_type": "code",
      "metadata": {
        "id": "Lfmm0dtT-fqA"
      },
      "source": [
        "def studentHeadYaw(collection):\n",
        "  yaws = []\n",
        "  indices = []\n",
        "\n",
        "  col = collection.find({\"people.0.inference\": {\"$exists\": True}})\n",
        "  for item in col:\n",
        "      if item[\"channel\"] == \"student\":\n",
        "          t_yaw = 0\n",
        "          for person in item[\"people\"]:\n",
        "              t_yaw += person[\"inference\"][\"head\"][\"yaw\"]\n",
        "              \n",
        "          t_yaw = t_yaw / len(item[\"people\"])\n",
        "          \n",
        "          # Print interesting images w/ yaw vector\n",
        "          if t_yaw < -10:\n",
        "              test = item[\"thumbnail\"]\n",
        "          \n",
        "              img_data = base64.b64encode(test['binary'])\n",
        "              with open(str(item[\"frameNumber\"]) + \".jpeg\", \"wb\") as fh:\n",
        "                  fh.write(base64.decodebytes(img_data))\n",
        "\n",
        "              im = Image.open(str(item[\"frameNumber\"]) + \".jpeg\")\n",
        "              \n",
        "              draw = ImageDraw.Draw(im)\n",
        "              print(t_yaw)\n",
        "              draw.line((im.size[0]/2, im.size[1]/2, im.size[0]/2 - (im.size[1]/2)*math.tan(math.radians(temp_yaw)), im.size[1]), fill=100, width=4)\n",
        "              im.show()\n",
        "              im.save(\"test-im.png\")\n",
        "              \n",
        "          yaws.append(t_yaw)\n",
        "          indices.append(item[\"frameNumber\"])\n",
        "          \n",
        "  fig = plt.figure()\n",
        "  plt.plot(yaws, indices)\n",
        "  plt.xlabel('Degree Head Rotation (Yaw)')\n",
        "  plt.ylabel('Time --->')"
      ],
      "execution_count": null,
      "outputs": []
    },
    {
      "cell_type": "code",
      "metadata": {
        "id": "FdMqiWc4-6j2"
      },
      "source": [
        "def studentHeadPitch(collection):\n",
        "  pitch = []\n",
        "  indices = []\n",
        "\n",
        "  col = collection.find({\"people.0.inference\": {\"$exists\": True}})\n",
        "  for item in col:\n",
        "      if item[\"channel\"] == \"student\":\n",
        "          temp_p = 0\n",
        "          for person in item[\"people\"]:\n",
        "              temp_p += person[\"inference\"][\"head\"][\"pitch\"]\n",
        "              \n",
        "          temp_p = temp_p / len(item[\"people\"])\n",
        "              \n",
        "          pitch.append(temp_p)\n",
        "          indices.append(item[\"frameNumber\"])\n",
        "          \n",
        "  fig = plt.figure()\n",
        "  plt.plot(indices, pitch)\n",
        "  plt.xlabel('Time --->')\n",
        "  plt.ylabel('Degree Head Rotation (Up/Down)')"
      ],
      "execution_count": null,
      "outputs": []
    }
  ]
}