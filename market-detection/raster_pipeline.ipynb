{
  "nbformat": 4,
  "nbformat_minor": 0,
  "metadata": {
    "kernelspec": {
      "display_name": "Python 3",
      "language": "python",
      "name": "python3"
    },
    "language_info": {
      "codemirror_mode": {
        "name": "ipython",
        "version": 3
      },
      "file_extension": ".py",
      "mimetype": "text/x-python",
      "name": "python",
      "nbconvert_exporter": "python",
      "pygments_lexer": "ipython3",
      "version": "3.7.7"
    },
    "colab": {
      "name": "raster-pipeline.ipynb",
      "provenance": [],
      "collapsed_sections": []
    }
  },
  "cells": [
    {
      "cell_type": "markdown",
      "metadata": {
        "id": "8tpFRydNOJve"
      },
      "source": [
        "### Import required packages"
      ]
    },
    {
      "cell_type": "code",
      "metadata": {
        "id": "209b9SoiOJvh"
      },
      "source": [
        "from osgeo import gdal, osr, ogr\n",
        "import matplotlib.pyplot as plt\n",
        "from osgeo.gdalconst import *\n",
        "import numpy as np\n",
        "import os\n",
        "import osmnx as ox\n",
        "import rasterio\n",
        "from rasterio.merge import merge"
      ],
      "execution_count": null,
      "outputs": []
    },
    {
      "cell_type": "markdown",
      "metadata": {
        "id": "jYgAQGVkOJvh"
      },
      "source": [
        "### Set Constants\n",
        "Input directory should contain .tif files in the base directory (program does not walk subdirectories). To mosaic an image, place mosaic inputs into a folder within the input directory. Separate mosaic sets should be in separate folders. The folder name will be used for mosaic output. \n",
        "\n",
        "The intermediate directory (INTER_DIR) contains .tif outputs for files with a cropped extent and resampled resolution.\n",
        "\n",
        "Target extent and resolution is in EPSG:4326."
      ]
    },
    {
      "cell_type": "code",
      "metadata": {
        "id": "ELLnCfw4OJvi"
      },
      "source": [
        "# CONSTANTS \n",
        "INPUT_DIR = \"input/\"\n",
        "INTER_DIR = \"temp/\"\n",
        "OUTPUT_DIR = \"output/\"\n",
        "# [ulx, uly, lrx, lry]\n",
        "# = [x_min, y_max, x_max, y_min]\n",
        "TARGET_EXT = [47.42053671268654, -18.809913565707074, 47.62104068410202, -19.01041753712255]\n",
        "TARGET_RES = [0.00026949458523585647, 0.00026949458523585647]"
      ],
      "execution_count": null,
      "outputs": []
    },
    {
      "cell_type": "markdown",
      "metadata": {
        "id": "wrXOkP03OJvi"
      },
      "source": [
        "### Mosaic Images\n",
        "Merges raster images within folders in INPUT_DIR. Folder names will be used for output filename. "
      ]
    },
    {
      "cell_type": "code",
      "metadata": {
        "id": "NNOyqHgTOJvj"
      },
      "source": [
        "def mosaicImages(directory):\n",
        "    pathList = []\n",
        "    rasterioObjList = []\n",
        "    outName = \"\"\n",
        "    for dirs, subdirs, files in os.walk(directory):\n",
        "        outName = os.path.basename(dirs)\n",
        "        for f in files:\n",
        "            path = dirs + os.sep + f\n",
        "            if path.endswith(\".tif\"):\n",
        "                src = rasterio.open(path)\n",
        "                pathList.append(path)\n",
        "                rasterioObjList.append(src)\n",
        "             \n",
        "    # Create mosaic image        \n",
        "    mosaic, out_t = merge(rasterioObjList)\n",
        "    out_meta = rasterioObjList[0].meta.copy()\n",
        "    out_meta.update({\n",
        "        \"height\": mosaic.shape[1],\n",
        "        \"width\": mosaic.shape[2],\n",
        "        \"transform\": out_t\n",
        "    })\n",
        "    \n",
        "    # Save mosaic image\n",
        "    with rasterio.open(INPUT_DIR + outName + \".tif\", \"w\", **out_meta) as dest:\n",
        "        dest.write(mosaic)\n",
        "        \n",
        "    # Set mosaic image band names \n",
        "    inDs = gdal.Open(pathList[0])\n",
        "    mosaicDs = gdal.Open(INPUT_DIR + outName + \".tif\")\n",
        "    for i in range(inDs.RasterCount):\n",
        "        mosaicDs.GetRasterBand(i+1).SetDescription(inDs.GetRasterBand(i+1).GetDescription())\n",
        "        \n",
        "    mosaicDs = None"
      ],
      "execution_count": null,
      "outputs": []
    },
    {
      "cell_type": "markdown",
      "metadata": {
        "id": "MRxFUxxSOJvk"
      },
      "source": [
        "### Get Extent and Resolution\n",
        "If you wish to copy the extent and resolution of a single input file for the final stacked output, identify values using the following two functions."
      ]
    },
    {
      "cell_type": "code",
      "metadata": {
        "id": "4mOKlPmhOJvk"
      },
      "source": [
        "def getExtent(path):\n",
        "    in_file = gdal.Open(path,0)\n",
        "    geoTransform = in_file.GetGeoTransform()\n",
        "    x_min = geoTransform[0]\n",
        "    y_max = geoTransform[3]\n",
        "    x_max = x_max + geoTransform[1]*in_file.RasterXSize\n",
        "    y_min = y_max + geoTransform[5]*in_file.RasterYSize\n",
        "\n",
        "    return [x_max,y_max,x_max,y_min]"
      ],
      "execution_count": null,
      "outputs": []
    },
    {
      "cell_type": "code",
      "metadata": {
        "id": "AfBj5lwyOJvk"
      },
      "source": [
        "def getResolution(path):\n",
        "    reference = gdal.Open(path, 0)\n",
        "    rt = reference.GetGeoTransform()\n",
        "    xr = rt[1]\n",
        "    yr = -rt[5]\n",
        "    return [xr, yr]"
      ],
      "execution_count": null,
      "outputs": []
    },
    {
      "cell_type": "markdown",
      "metadata": {
        "id": "o58mKR1wOJvl"
      },
      "source": [
        "### Check Extent Cover \n",
        "Confirm that raster covers the desired output extent"
      ]
    },
    {
      "cell_type": "code",
      "metadata": {
        "id": "eLo4B60oOJvl"
      },
      "source": [
        "def checkExtent(ds):\n",
        "    # Source: https://gis.stackexchange.com/questions/57834/how-to-get-raster-corner-coordinates-using-python-gdal-bindings\n",
        "    \n",
        "    ulx, xres, xskew, uly, yskew, yres  = ds.GetGeoTransform()\n",
        "    lrx = ulx + (ds.RasterXSize * xres)\n",
        "    lry = uly + (ds.RasterYSize * yres)\n",
        "    source = osr.SpatialReference()\n",
        "    source.ImportFromWkt(ds.GetProjection())\n",
        "\n",
        "    # Target projection + define transformation\n",
        "    target = osr.SpatialReference()\n",
        "    target.ImportFromEPSG(4326)\n",
        "    transform = osr.CoordinateTransformation(source, target)\n",
        "\n",
        "    # Transform points\n",
        "    ulx, uly, ret = transform.TransformPoint(ulx, uly)\n",
        "    lrx, lry, ret = transform.TransformPoint(lrx, lry)\n",
        "    \n",
        "    if( ulx <= TARGET_EXT[0] and uly >= TARGET_EXT[1] and lrx >= TARGET_EXT[2] and lry <= TARGET_EXT[3]):\n",
        "        return True\n",
        "    else:\n",
        "        return False\n",
        "    "
      ],
      "execution_count": null,
      "outputs": []
    },
    {
      "cell_type": "markdown",
      "metadata": {
        "id": "mopsabRsOJvm"
      },
      "source": [
        "### Generate Intermediate Images\n",
        "Edits all input rasters and mosaics to desired extent and resolution and saves products to INTER_DIR. If needed, change resampling algorithm from \"gdal.GRIORA_Bilinear\" to any desired value. "
      ]
    },
    {
      "cell_type": "code",
      "metadata": {
        "id": "lfXiGwZ2OJvm"
      },
      "source": [
        "# Count total number of layers for future stacking \n",
        "numLayers = 0\n",
        "\n",
        "# Check if intermediate path exists\n",
        "if not os.path.exists(INTER_DIR):\n",
        "    os.mkdir(INTER_DIR)\n",
        "    \n",
        "# Iterate through input directory and find .tif files\n",
        "input_tifs = []\n",
        "for subdir, dirs, files in os.walk(INPUT_DIR):\n",
        "    for d in dirs:\n",
        "        mosaicImages(INPUT_DIR + d)\n",
        "for subdir, dirs, files in os.walk(INPUT_DIR):\n",
        "    for f in files:\n",
        "        path = subdir + os.sep + f\n",
        "        if path.endswith(\".tif\") or path.endswith(\".JP2\"):\n",
        "            input_tifs.append(path)\n",
        "    break;\n",
        "    \n",
        "# Resize, resample and save to intermediate dir\n",
        "for tif in input_tifs:\n",
        "    inputDs = gdal.Open(tif)\n",
        "    if(checkExtent(inputDs)):\n",
        "        numLayers += inputDs.RasterCount\n",
        "        ds = gdal.Warp(str(INTER_DIR + os.path.basename(tif)), inputDs,\n",
        "                       xRes=TARGET_RES[0], yRes=TARGET_RES[1],\n",
        "                       outputBounds=TARGET_EXT,\n",
        "                       resampleAlg= gdal.GRIORA_Bilinear,\n",
        "                       dstSRS='EPSG:4326',\n",
        "        #                format='MEM'\n",
        "                       format='GTiff'\n",
        "                      )\n",
        "        ds = None\n",
        "    else:\n",
        "        print(tif + \" does not contain specified target extent. Excluding file from output.\");\n"
      ],
      "execution_count": null,
      "outputs": []
    },
    {
      "cell_type": "markdown",
      "metadata": {
        "id": "WcpxbKmvOJvn"
      },
      "source": [
        "### Get Intermediate Product List\n",
        "Iterates through intermediate product folder. Also identifies constants for final stacked raster output."
      ]
    },
    {
      "cell_type": "code",
      "metadata": {
        "id": "oypb0_ylOJvo"
      },
      "source": [
        "# Iterate through intermediate product directory\n",
        "tifs = []\n",
        "for subdir, dirs, files in os.walk(INTER_DIR):\n",
        "    for f in files:\n",
        "        path = subdir + os.sep + f\n",
        "        if path.endswith(\".tif\"):\n",
        "            tifs.append(path)\n",
        "            \n",
        "# Get shape for output file from sample intermediate prod\n",
        "inputDs = gdal.Open(tifs[0])\n",
        "geo_transform = inputDs.GetGeoTransform()\n",
        "out_shape = inputDs.GetRasterBand(1).ReadAsArray().shape\n",
        "inputDs = None "
      ],
      "execution_count": null,
      "outputs": []
    },
    {
      "cell_type": "markdown",
      "metadata": {
        "id": "WnmQzHpdOJvp"
      },
      "source": [
        "### Build and Export Stacked Raster\n",
        "Exports multilayer.tif to OUTPUT_DIR. Saves band names from original files, if they exist. "
      ]
    },
    {
      "cell_type": "code",
      "metadata": {
        "id": "Pezk_Ls5OJvp"
      },
      "source": [
        "driver = gdal.GetDriverByName(\"Gtiff\")\n",
        "outDataset = driver.Create(OUTPUT_DIR + \"multilayer.tif\", out_shape[1], out_shape[0], numLayers, gdal.GDT_Float32)\n",
        "outDataset.SetGeoTransform(geo_transform)\n",
        "srs = osr.SpatialReference()\n",
        "srs.ImportFromEPSG(4326)\n",
        "outDataset.SetProjection(srs.ExportToWkt())\n",
        "\n",
        "currLayer = 1\n",
        "for tif in tifs:\n",
        "    tempFile = gdal.Open(tif)\n",
        "    for ind in range(tempFile.RasterCount):\n",
        "        fileLayerArr = tempFile.GetRasterBand(ind+1).ReadAsArray()\n",
        "        outDataset.GetRasterBand(currLayer).WriteArray(fileLayerArr)\n",
        "        outDataset.GetRasterBand(currLayer).SetDescription(tempFile.GetRasterBand(ind+1).GetDescription())\n",
        "        currLayer += 1\n",
        "outDataset = None"
      ],
      "execution_count": null,
      "outputs": []
    }
  ]
}