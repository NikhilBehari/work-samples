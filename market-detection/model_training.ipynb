{
  "nbformat": 4,
  "nbformat_minor": 0,
  "metadata": {
    "colab": {
      "name": "model_training.ipynb",
      "provenance": [],
      "collapsed_sections": []
    },
    "kernelspec": {
      "display_name": "Python 3",
      "language": "python",
      "name": "python3"
    },
    "language_info": {
      "codemirror_mode": {
        "name": "ipython",
        "version": 3
      },
      "file_extension": ".py",
      "mimetype": "text/x-python",
      "name": "python",
      "nbconvert_exporter": "python",
      "pygments_lexer": "ipython3",
      "version": "3.7.7"
    }
  },
  "cells": [
    {
      "cell_type": "markdown",
      "metadata": {
        "id": "b9TBpe6vksrw"
      },
      "source": [
        "#### Import packages"
      ]
    },
    {
      "cell_type": "code",
      "metadata": {
        "id": "X9FXpX9rke4N"
      },
      "source": [
        "! pip install -U segmentation-models\n",
        "! pip install q keras==2.3.1\n",
        "! pip install tensorflow==2.1.0\n",
        "! pip install Augmentor\n",
        "\n",
        "import tensorflow as tf\n",
        "import segmentation_models as sm\n",
        "from tensorflow.keras.preprocessing import image\n",
        "from tensorflow.keras.models import Model\n",
        "from tensorflow.keras.layers import Activation, BatchNormalization, Conv2D, concatenate, Conv2DTranspose, Dense, Dropout, Input, MaxPooling2D\n",
        "from keras.callbacks import History\n",
        "from tensorflow.keras.optimizers import * \n",
        "\n",
        "import PIL\n",
        "from PIL import Image\n",
        "import numpy as np\n",
        "import matplotlib.pyplot as plt\n",
        "import cv2\n",
        "import glob\n",
        "import Augmentor\n",
        "from natsort import natsorted\n",
        "import os\n",
        "import random\n",
        "import requests\n",
        "import zipfile"
      ],
      "execution_count": null,
      "outputs": []
    },
    {
      "cell_type": "markdown",
      "metadata": {
        "id": "ZLTJ8Elfk0C6"
      },
      "source": [
        "#### Drive mount\n",
        "Only run if using Google Colab"
      ]
    },
    {
      "cell_type": "code",
      "metadata": {
        "id": "mjgUwnJSkq3H"
      },
      "source": [
        "from google.colab import drive\n",
        "drive.mount('/content/drive')"
      ],
      "execution_count": null,
      "outputs": []
    },
    {
      "cell_type": "markdown",
      "metadata": {
        "id": "qfXunLE8k7iM"
      },
      "source": [
        "#### Define constants"
      ]
    },
    {
      "cell_type": "code",
      "metadata": {
        "id": "9fHSw2Pok5Lv"
      },
      "source": [
        "png_dim = 512\n",
        "\n",
        "mask_png_dir = \"\"\n",
        "sat_png_dir = \"\"\n",
        "\n",
        "save_path = \"\""
      ],
      "execution_count": null,
      "outputs": []
    },
    {
      "cell_type": "markdown",
      "metadata": {
        "id": "F3SHzG2EmlTv"
      },
      "source": [
        "#### Load training data\n",
        "Load training data from defined input directories and augment with rotations, flips, and crops. "
      ]
    },
    {
      "cell_type": "code",
      "metadata": {
        "id": "eO4pMtuBreU0"
      },
      "source": [
        "ground_truth_images = natsorted(glob.glob(sat_png_dir + \"/*.png\"))\n",
        "segmentation_mask_images = natsorted(glob.glob(mask_png_dir + \"/*.png\"))\n",
        "collated_images_and_masks = list(zip(ground_truth_images, \n",
        "                                    segmentation_mask_images, ))\n",
        "images = [[np.asarray(Image.open(y)) for y in x] for x in collated_images_and_masks]\n",
        "\n",
        "p = Augmentor.DataPipeline(images)\n",
        "p.rotate90(probability=0.5)\n",
        "p.rotate270(probability=0.5)\n",
        "p.flip_left_right(probability=0.8)\n",
        "p.flip_top_bottom(probability=0.3)\n",
        "p.crop_random(probability=1, percentage_area=0.5)\n",
        "p.resize(probability=1.0, width=png_dim, height=png_dim)\n",
        "\n",
        "augmented_images = p.sample(700)\n",
        "\n",
        "r_index = 3\n",
        "f, axarr = plt.subplots(1, 2, figsize=(6,4))\n",
        "axarr[0].imshow(augmented_images[r_index][0])\n",
        "axarr[1].imshow(augmented_images[r_index][1], cmap=\"gray\")\n",
        "\n",
        "X_data = []\n",
        "Y_data = []\n",
        "for i in range(len(augmented_images)):\n",
        "    X_data.append(augmented_images[i][0])\n",
        "    Y_data.append(augmented_images[i][1])\n",
        "\n",
        "X_data = np.array(X_data)\n",
        "Y_data = np.array(Y_data)\n",
        "X_data = X_data[:,:,:,:3]\n",
        "Y_data = Y_data[:,:,:,:1]"
      ],
      "execution_count": null,
      "outputs": []
    },
    {
      "cell_type": "markdown",
      "metadata": {
        "id": "sA9VuzM2resF"
      },
      "source": [
        "#### Train default pretrained U-Net\n",
        "Train U-Net model on augmented data using a ResNet-34 encoder pretrained on ImageNet (Deng et al. 2009). Uses a binary cross-entropy loss and Adam optimizer."
      ]
    },
    {
      "cell_type": "code",
      "metadata": {
        "id": "PR4zQAR_lJqp"
      },
      "source": [
        "model = sm.Unet('resnet34', classes=1, encoder_weights='imagenet', activation='sigmoid')\n",
        "BACKBONE = 'resnet34'\n",
        "preprocess_input = sm.get_preprocessing(BACKBONE)\n",
        "# define model\n",
        "model = sm.Unet(BACKBONE, classes=1, encoder_weights='imagenet')\n",
        "model.compile(\n",
        "    'Adam',\n",
        "    loss=sm.losses.binary_crossentropy,\n",
        "    metrics=[sm.metrics.iou_score, sm.metrics.precision, sm.metrics.recall],\n",
        ")\n",
        "\n",
        "x_train = preprocess_input(X_data)\n",
        "y_train = preprocess_input(Y_data)\n",
        "detection_model = model.fit(\n",
        "    x=x_train,\n",
        "    y=y_train,\n",
        "    batch_size=16,\n",
        "    epochs=60,\n",
        "    validation_split=0.2\n",
        ")\n",
        "\n",
        "model.save(save_path)"
      ],
      "execution_count": null,
      "outputs": []
    },
    {
      "cell_type": "markdown",
      "metadata": {
        "id": "MnHKTPWFt9oi"
      },
      "source": [
        "#### Optional: Train custom U-Net \n",
        "If sufficient data is present, or different U-Net specifications are required (e.g. more image channels, different resolution), a custom U-Net may be modified and used."
      ]
    },
    {
      "cell_type": "code",
      "metadata": {
        "id": "gXd6vuiybFke"
      },
      "source": [
        "def conv_layers(c, filters, size, act, k_init, pad):\n",
        "  x = Conv2D(filters, size, activation=act, kernel_initializer=k_init, padding=pad)(c)\n",
        "  x = BatchNormalization()(x)\n",
        "  x = Dropout(0.1)(x)\n",
        "  x = Conv2D(filters, size, activation=act, kernel_initializer=k_init, padding=pad)(x)\n",
        "  return x\n",
        "\n",
        "def custom_unet():\n",
        "\n",
        "  in_layer = Input((128, 128, 3))\n",
        "\n",
        "  c_1 = conv_layers(in_layer, 32, (3,3), 'relu', 'he_normal', 'same')\n",
        "  c_1 = BatchNormalization()(c_1)\n",
        "  p_1 = MaxPooling2D((2, 2)) (c_1)\n",
        "\n",
        "  c_2 = conv_layers(p_1, 64, (3,3), 'relu', 'he_normal', 'same')\n",
        "  c_2 = BatchNormalization()(c_2)\n",
        "  p_2 = MaxPooling2D((2, 2)) (c_2)\n",
        "\n",
        "  c_3 = conv_layers(p_2, 128, (3,3), 'relu', 'he_normal', 'same')\n",
        "  c_3 = BatchNormalization()(c_3)\n",
        "  p_3 = MaxPooling2D((2, 2)) (c_3)\n",
        "\n",
        "  c_4 = conv_layers(p_3, 256, (3,3), 'relu', 'he_normal', 'same')\n",
        "  c_4 = BatchNormalization()(c_4)\n",
        "  p_4 = MaxPooling2D((2, 2)) (c_4)\n",
        "\n",
        "  c_5 = conv_layers(p_4, 512, (3,3), 'relu', 'he_normal', 'same')\n",
        "  c_5 = BatchNormalization()(c_5)\n",
        "\n",
        "  up_6 = Conv2DTranspose(256, (2, 2), strides=(2, 2), padding='same') (c_5)\n",
        "  up_6 = concatenate([up_6, c_4])\n",
        "\n",
        "  c_6 = conv_layers(up_6, 256, (3,3), 'relu', 'he_normal', 'same')\n",
        "  c_6 = BatchNormalization()(c_6)\n",
        "\n",
        "  u_7 = Conv2DTranspose(128, (2, 2), strides=(2, 2), padding='same') (c_6)\n",
        "  u_7 = concatenate([u_7, c_3])\n",
        "\n",
        "  c_7 = conv_layers(u_7, 128, (3,3), 'relu', 'he_normal', 'same')\n",
        "  c_7 = BatchNormalization()(c_7)\n",
        "\n",
        "  u_8 = Conv2DTranspose(64, (2, 2), strides=(2, 2), padding='same') (c_7)\n",
        "  u_8 = concatenate([u_8, c_2])\n",
        "\n",
        "  c_8 = conv_layers(u_8, 64, (3,3), 'relu', 'he_normal', 'same')\n",
        "  c_8 = BatchNormalization()(c_8)\n",
        "\n",
        "  u_9 = Conv2DTranspose(32, (2, 2), strides=(2, 2), padding='same') (c_8)\n",
        "  u_9 = concatenate([u_9, c_1], axis=3)\n",
        "\n",
        "  c_9 = conv_layers(u_9, 256, (3,3), 'relu', 'he_normal', 'same')\n",
        "  c_9 = BatchNormalization()(c_9)\n",
        "\n",
        "  out_layer = Conv2D(1, (1, 1), activation='sigmoid')(c_9)\n",
        "  model = Model(inputs=[in_layer], outputs=[out_layer], name=\"satellite_unet\")\n",
        "  model.summary()\n",
        "\n",
        "  return model "
      ],
      "execution_count": 4,
      "outputs": []
    },
    {
      "cell_type": "code",
      "metadata": {
        "colab": {
          "base_uri": "https://localhost:8080/"
        },
        "id": "aBTjaKgsyGu2",
        "outputId": "67ab94d9-26a4-4fd0-b0e2-e4db2893d71e"
      },
      "source": [
        "model = custom_unet()"
      ],
      "execution_count": 5,
      "outputs": [
        {
          "output_type": "stream",
          "text": [
            "Model: \"satellite_unet\"\n",
            "__________________________________________________________________________________________________\n",
            "Layer (type)                    Output Shape         Param #     Connected to                     \n",
            "==================================================================================================\n",
            "input_2 (InputLayer)            [(None, 128, 128, 3) 0                                            \n",
            "__________________________________________________________________________________________________\n",
            "conv2d_10 (Conv2D)              (None, 128, 128, 32) 896         input_2[0][0]                    \n",
            "__________________________________________________________________________________________________\n",
            "batch_normalization_10 (BatchNo (None, 128, 128, 32) 128         conv2d_10[0][0]                  \n",
            "__________________________________________________________________________________________________\n",
            "dropout_5 (Dropout)             (None, 128, 128, 32) 0           batch_normalization_10[0][0]     \n",
            "__________________________________________________________________________________________________\n",
            "conv2d_11 (Conv2D)              (None, 128, 128, 32) 9248        dropout_5[0][0]                  \n",
            "__________________________________________________________________________________________________\n",
            "batch_normalization_11 (BatchNo (None, 128, 128, 32) 128         conv2d_11[0][0]                  \n",
            "__________________________________________________________________________________________________\n",
            "max_pooling2d_4 (MaxPooling2D)  (None, 64, 64, 32)   0           batch_normalization_11[0][0]     \n",
            "__________________________________________________________________________________________________\n",
            "conv2d_12 (Conv2D)              (None, 64, 64, 64)   18496       max_pooling2d_4[0][0]            \n",
            "__________________________________________________________________________________________________\n",
            "batch_normalization_12 (BatchNo (None, 64, 64, 64)   256         conv2d_12[0][0]                  \n",
            "__________________________________________________________________________________________________\n",
            "dropout_6 (Dropout)             (None, 64, 64, 64)   0           batch_normalization_12[0][0]     \n",
            "__________________________________________________________________________________________________\n",
            "conv2d_13 (Conv2D)              (None, 64, 64, 64)   36928       dropout_6[0][0]                  \n",
            "__________________________________________________________________________________________________\n",
            "batch_normalization_13 (BatchNo (None, 64, 64, 64)   256         conv2d_13[0][0]                  \n",
            "__________________________________________________________________________________________________\n",
            "max_pooling2d_5 (MaxPooling2D)  (None, 32, 32, 64)   0           batch_normalization_13[0][0]     \n",
            "__________________________________________________________________________________________________\n",
            "conv2d_14 (Conv2D)              (None, 32, 32, 128)  73856       max_pooling2d_5[0][0]            \n",
            "__________________________________________________________________________________________________\n",
            "batch_normalization_14 (BatchNo (None, 32, 32, 128)  512         conv2d_14[0][0]                  \n",
            "__________________________________________________________________________________________________\n",
            "dropout_7 (Dropout)             (None, 32, 32, 128)  0           batch_normalization_14[0][0]     \n",
            "__________________________________________________________________________________________________\n",
            "conv2d_15 (Conv2D)              (None, 32, 32, 128)  147584      dropout_7[0][0]                  \n",
            "__________________________________________________________________________________________________\n",
            "batch_normalization_15 (BatchNo (None, 32, 32, 128)  512         conv2d_15[0][0]                  \n",
            "__________________________________________________________________________________________________\n",
            "max_pooling2d_6 (MaxPooling2D)  (None, 16, 16, 128)  0           batch_normalization_15[0][0]     \n",
            "__________________________________________________________________________________________________\n",
            "conv2d_16 (Conv2D)              (None, 16, 16, 256)  295168      max_pooling2d_6[0][0]            \n",
            "__________________________________________________________________________________________________\n",
            "batch_normalization_16 (BatchNo (None, 16, 16, 256)  1024        conv2d_16[0][0]                  \n",
            "__________________________________________________________________________________________________\n",
            "dropout_8 (Dropout)             (None, 16, 16, 256)  0           batch_normalization_16[0][0]     \n",
            "__________________________________________________________________________________________________\n",
            "conv2d_17 (Conv2D)              (None, 16, 16, 256)  590080      dropout_8[0][0]                  \n",
            "__________________________________________________________________________________________________\n",
            "batch_normalization_17 (BatchNo (None, 16, 16, 256)  1024        conv2d_17[0][0]                  \n",
            "__________________________________________________________________________________________________\n",
            "max_pooling2d_7 (MaxPooling2D)  (None, 8, 8, 256)    0           batch_normalization_17[0][0]     \n",
            "__________________________________________________________________________________________________\n",
            "conv2d_18 (Conv2D)              (None, 8, 8, 512)    1180160     max_pooling2d_7[0][0]            \n",
            "__________________________________________________________________________________________________\n",
            "batch_normalization_18 (BatchNo (None, 8, 8, 512)    2048        conv2d_18[0][0]                  \n",
            "__________________________________________________________________________________________________\n",
            "dropout_9 (Dropout)             (None, 8, 8, 512)    0           batch_normalization_18[0][0]     \n",
            "__________________________________________________________________________________________________\n",
            "conv2d_19 (Conv2D)              (None, 8, 8, 512)    2359808     dropout_9[0][0]                  \n",
            "__________________________________________________________________________________________________\n",
            "batch_normalization_19 (BatchNo (None, 8, 8, 512)    2048        conv2d_19[0][0]                  \n",
            "__________________________________________________________________________________________________\n",
            "conv2d_transpose (Conv2DTranspo (None, 16, 16, 256)  524544      batch_normalization_19[0][0]     \n",
            "__________________________________________________________________________________________________\n",
            "concatenate (Concatenate)       (None, 16, 16, 512)  0           conv2d_transpose[0][0]           \n",
            "                                                                 batch_normalization_17[0][0]     \n",
            "__________________________________________________________________________________________________\n",
            "conv2d_20 (Conv2D)              (None, 16, 16, 256)  1179904     concatenate[0][0]                \n",
            "__________________________________________________________________________________________________\n",
            "batch_normalization_20 (BatchNo (None, 16, 16, 256)  1024        conv2d_20[0][0]                  \n",
            "__________________________________________________________________________________________________\n",
            "dropout_10 (Dropout)            (None, 16, 16, 256)  0           batch_normalization_20[0][0]     \n",
            "__________________________________________________________________________________________________\n",
            "conv2d_21 (Conv2D)              (None, 16, 16, 256)  590080      dropout_10[0][0]                 \n",
            "__________________________________________________________________________________________________\n",
            "batch_normalization_21 (BatchNo (None, 16, 16, 256)  1024        conv2d_21[0][0]                  \n",
            "__________________________________________________________________________________________________\n",
            "conv2d_transpose_1 (Conv2DTrans (None, 32, 32, 128)  131200      batch_normalization_21[0][0]     \n",
            "__________________________________________________________________________________________________\n",
            "concatenate_1 (Concatenate)     (None, 32, 32, 256)  0           conv2d_transpose_1[0][0]         \n",
            "                                                                 batch_normalization_15[0][0]     \n",
            "__________________________________________________________________________________________________\n",
            "conv2d_22 (Conv2D)              (None, 32, 32, 128)  295040      concatenate_1[0][0]              \n",
            "__________________________________________________________________________________________________\n",
            "batch_normalization_22 (BatchNo (None, 32, 32, 128)  512         conv2d_22[0][0]                  \n",
            "__________________________________________________________________________________________________\n",
            "dropout_11 (Dropout)            (None, 32, 32, 128)  0           batch_normalization_22[0][0]     \n",
            "__________________________________________________________________________________________________\n",
            "conv2d_23 (Conv2D)              (None, 32, 32, 128)  147584      dropout_11[0][0]                 \n",
            "__________________________________________________________________________________________________\n",
            "batch_normalization_23 (BatchNo (None, 32, 32, 128)  512         conv2d_23[0][0]                  \n",
            "__________________________________________________________________________________________________\n",
            "conv2d_transpose_2 (Conv2DTrans (None, 64, 64, 64)   32832       batch_normalization_23[0][0]     \n",
            "__________________________________________________________________________________________________\n",
            "concatenate_2 (Concatenate)     (None, 64, 64, 128)  0           conv2d_transpose_2[0][0]         \n",
            "                                                                 batch_normalization_13[0][0]     \n",
            "__________________________________________________________________________________________________\n",
            "conv2d_24 (Conv2D)              (None, 64, 64, 64)   73792       concatenate_2[0][0]              \n",
            "__________________________________________________________________________________________________\n",
            "batch_normalization_24 (BatchNo (None, 64, 64, 64)   256         conv2d_24[0][0]                  \n",
            "__________________________________________________________________________________________________\n",
            "dropout_12 (Dropout)            (None, 64, 64, 64)   0           batch_normalization_24[0][0]     \n",
            "__________________________________________________________________________________________________\n",
            "conv2d_25 (Conv2D)              (None, 64, 64, 64)   36928       dropout_12[0][0]                 \n",
            "__________________________________________________________________________________________________\n",
            "batch_normalization_25 (BatchNo (None, 64, 64, 64)   256         conv2d_25[0][0]                  \n",
            "__________________________________________________________________________________________________\n",
            "conv2d_transpose_3 (Conv2DTrans (None, 128, 128, 32) 8224        batch_normalization_25[0][0]     \n",
            "__________________________________________________________________________________________________\n",
            "concatenate_3 (Concatenate)     (None, 128, 128, 64) 0           conv2d_transpose_3[0][0]         \n",
            "                                                                 batch_normalization_11[0][0]     \n",
            "__________________________________________________________________________________________________\n",
            "conv2d_26 (Conv2D)              (None, 128, 128, 256 147712      concatenate_3[0][0]              \n",
            "__________________________________________________________________________________________________\n",
            "batch_normalization_26 (BatchNo (None, 128, 128, 256 1024        conv2d_26[0][0]                  \n",
            "__________________________________________________________________________________________________\n",
            "dropout_13 (Dropout)            (None, 128, 128, 256 0           batch_normalization_26[0][0]     \n",
            "__________________________________________________________________________________________________\n",
            "conv2d_27 (Conv2D)              (None, 128, 128, 256 590080      dropout_13[0][0]                 \n",
            "__________________________________________________________________________________________________\n",
            "batch_normalization_27 (BatchNo (None, 128, 128, 256 1024        conv2d_27[0][0]                  \n",
            "__________________________________________________________________________________________________\n",
            "conv2d_28 (Conv2D)              (None, 128, 128, 1)  257         batch_normalization_27[0][0]     \n",
            "==================================================================================================\n",
            "Total params: 8,483,969\n",
            "Trainable params: 8,477,185\n",
            "Non-trainable params: 6,784\n",
            "__________________________________________________________________________________________________\n"
          ],
          "name": "stdout"
        }
      ]
    },
    {
      "cell_type": "code",
      "metadata": {
        "id": "kBzeP1XZyf_U"
      },
      "source": [
        "def compile_model(learning_rate, pt_weights):\n",
        "  model.compile(optimizer=Adam(lr=learning_rate), loss=\"binary_crossentropy\")\n",
        "  if(pt_weights):\n",
        "    model.load_weights(pt_weights)"
      ],
      "execution_count": 13,
      "outputs": []
    }
  ]
}