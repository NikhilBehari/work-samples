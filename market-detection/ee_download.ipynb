{
  "nbformat": 4,
  "nbformat_minor": 0,
  "metadata": {
    "kernelspec": {
      "display_name": "Python 3",
      "language": "python",
      "name": "python3"
    },
    "language_info": {
      "codemirror_mode": {
        "name": "ipython",
        "version": 3
      },
      "file_extension": ".py",
      "mimetype": "text/x-python",
      "name": "python",
      "nbconvert_exporter": "python",
      "pygments_lexer": "ipython3",
      "version": "3.7.7"
    },
    "colab": {
      "name": "ee-download.ipynb",
      "provenance": []
    }
  },
  "cells": [
    {
      "cell_type": "markdown",
      "metadata": {
        "id": "FBLlTeYeKoYT"
      },
      "source": [
        "Import libraries and authenticate GEE account"
      ]
    },
    {
      "cell_type": "code",
      "metadata": {
        "id": "y_lezq_2Kk20"
      },
      "source": [
        "import ee\n",
        "import ee.mapclient\n",
        "import time\n",
        "import datetime\n",
        "import sys\n",
        "\n",
        "# Authenticate GEE account \n",
        "ee.Authenticate()\n",
        "ee.Initialize()"
      ],
      "execution_count": null,
      "outputs": []
    },
    {
      "cell_type": "markdown",
      "metadata": {
        "id": "WBISyG_uL9Fq"
      },
      "source": [
        "Generate polygon box from center coordinate and radius"
      ]
    },
    {
      "cell_type": "code",
      "metadata": {
        "id": "6L9rdP1DKk22"
      },
      "source": [
        "def generate_polygons(coordinates, boxSize):\n",
        "  polygons = []\n",
        "  for c in coordinates:\n",
        "    bw = boxSize[0]/2\n",
        "    bh = boxSize[1]/2\n",
        "    wc = c[0]\n",
        "    hc = c[1]\n",
        "\n",
        "    polygon = ee.Geometry.Polygon([\n",
        "      [[wc-bw, hc-bh],\n",
        "      [wc+bw, hc-bh],\n",
        "      [wc+bw, hc+bh],\n",
        "      [wc-bw, hc+bh],\n",
        "      [wc-bw, hc-bh]\n",
        "      ]\n",
        "    ])\n",
        "\n",
        "    polygons.append(polygon)\n",
        "  return polygons"
      ],
      "execution_count": null,
      "outputs": []
    },
    {
      "cell_type": "markdown",
      "metadata": {
        "id": "0dG2uDeUMP7H"
      },
      "source": [
        "Sentinel processing function. Applies bitwise mask to image collection within time range to remove cloud cover. "
      ]
    },
    {
      "cell_type": "code",
      "metadata": {
        "id": "6LvfO5pPKk23"
      },
      "source": [
        "def process_sentinel(dataset, time_range, area):\n",
        "\n",
        "    # remove clouds from images with masking\n",
        "    def maskclouds(image):\n",
        "        band_qa = image.select('QA60')\n",
        "        cloud_m = ee.Number(2).pow(10).int()\n",
        "        cirrus_m = ee.Number(2).pow(11).int()\n",
        "        mask = band_qa.bitwiseAnd(cloud_m).eq(0) and(\n",
        "            band_qa.bitwiseAnd(cirrus_m).eq(0))\n",
        "        return image.updateMask(mask).divide(10000)\n",
        "\n",
        "    # produce filtered image using median\n",
        "    filter_image = (ee.ImageCollection(dataset).\n",
        "                         filterBounds(area).\n",
        "                         filterDate(time_range[0], time_range[1]).\n",
        "                         filter(ee.Filter.lt('CLOUDY_PIXEL_PERCENTAGE', 20)).\n",
        "                         map(maskclouds))\n",
        "\n",
        "    sentinel_median = filter_image.median()\n",
        "    # image_band = sentinel_median.select(['B4','B3','B2'])\n",
        "    return sentinel_median"
      ],
      "execution_count": null,
      "outputs": []
    },
    {
      "cell_type": "markdown",
      "metadata": {
        "id": "B-NQn24XNQ9u"
      },
      "source": [
        "Process and export collection of GEE data"
      ]
    },
    {
      "cell_type": "code",
      "metadata": {
        "id": "yWhwEGu6Kk23"
      },
      "source": [
        "# Download image collection (stacked rasters)\n",
        "def download_collection(datasets, timerange, coordinates, outputFolder, scale, report=False, testRun=True):\n",
        "      \n",
        "  print(\"Exporing Image Collection to \" + outputFolder + \" Folder\")\n",
        "\n",
        "  for d_i,d in enumerate(datasets):\n",
        "    \n",
        "    print(\"\\nProcessing \" + d + \"...\")\n",
        "    \n",
        "    for c_i, c in enumerate(coordinates):\n",
        "\n",
        "      if d == \"COPERNICUS/S2\" or d == \"COPERNICUS/S2_SR\":\n",
        "        image = process_sentinel(d, timerange, c)\n",
        "      else:\n",
        "        collection = (ee.ImageCollection(d)\n",
        "                .filterDate(timerange[0], timerange[1])\n",
        "                .filterBounds(c)\n",
        "                )\n",
        "        image = collection.first().clip(c)\n",
        "\n",
        "      if testRun:\n",
        "        print(\"Dataset: \" + str(d_i) + \", Coordinates: \" + str(c_i))\n",
        "      else:\n",
        "        print(\"Sending img_\"+ str(d_i) + \"_\" + str(c_i)+\" to GEE...\", end=\" \")\n",
        "        task = ee.batch.Export.image.toDrive(\n",
        "            image=image,\n",
        "            description=\"img_\" + str(d_i) + \"_\" + str(c_i),\n",
        "            folder=outputFolder,\n",
        "            region=c,\n",
        "            scale=30\n",
        "        )\n",
        "        task.start()\n",
        "        print(\"\\x1b[32mComplete\\x1b[0m\")\n",
        "\n",
        "    print(\"Complete\")"
      ],
      "execution_count": null,
      "outputs": []
    },
    {
      "cell_type": "markdown",
      "metadata": {
        "id": "9YZ1xniONhZ2"
      },
      "source": [
        "Process and export single image GEE data "
      ]
    },
    {
      "cell_type": "code",
      "metadata": {
        "id": "xwLly41TKk24"
      },
      "source": [
        "# Download single image rather than image collection \n",
        "def download_image(dataset, timerange, coordinates, outputFolder, scale, report=False, testRun=True):\n",
        "  \n",
        "  print(\"Exporing Image Collection to \" + outputFolder + \" Folder\")\n",
        "  \n",
        "  for d_i, d in enumerate(dataset):\n",
        "    for ind, coordinate in enumerate(coordinates): \n",
        "      image = (ee.Image(d))\n",
        "      image = image.clip(coordinate)\n",
        "\n",
        "      task = ee.batch.Export.image.toDrive(\n",
        "              image=image,\n",
        "              description=\"image\" + str(d) + str(ind),\n",
        "              folder=outputFolder,\n",
        "              scale=1,\n",
        "          )\n",
        "      task.start()\n",
        "\n",
        "    print(\"Complete\")"
      ],
      "execution_count": null,
      "outputs": []
    },
    {
      "cell_type": "markdown",
      "metadata": {
        "id": "d-b-F9lINmRf"
      },
      "source": [
        "Sample function call"
      ]
    },
    {
      "cell_type": "code",
      "metadata": {
        "id": "94Jl6mIWKk24"
      },
      "source": [
        "# Example of calling download_collection function \n",
        "\n",
        "datasets = ['CIESIN/GPWv411/GPW_Basic_Demographic_Characteristics', \n",
        "            'NASA/FLDAS/NOAH01/C/GL/M/V001', \n",
        "            'NASA/GLDAS/V021/NOAH/G025/T3H'\n",
        "            ]\n",
        "centers = [[ 48.299830, -21.245750],[43.6696600, -23.3541730]]\n",
        "box = [1.5, 1.5]\n",
        "dates = [datetime.datetime(2010, 1, 1), datetime.datetime(2019, 5, 1)]\n",
        "download_collection(datasets=datasets, timerange=dates, coordinates=generate_polygons(centers, box) , outputFolder='testing_ee', scale=1, testRun=False)"
      ],
      "execution_count": null,
      "outputs": []
    }
  ]
}