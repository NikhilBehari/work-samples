{
  "nbformat": 4,
  "nbformat_minor": 0,
  "metadata": {
    "colab": {
      "name": "satellite_download.ipynb",
      "provenance": [],
      "collapsed_sections": []
    },
    "kernelspec": {
      "display_name": "Python 3",
      "language": "python",
      "name": "python3"
    },
    "language_info": {
      "codemirror_mode": {
        "name": "ipython",
        "version": 3
      },
      "file_extension": ".py",
      "mimetype": "text/x-python",
      "name": "python",
      "nbconvert_exporter": "python",
      "pygments_lexer": "ipython3",
      "version": "3.7.7"
    }
  },
  "cells": [
    {
      "cell_type": "markdown",
      "metadata": {
        "id": "1MFeU6LmeOz_"
      },
      "source": [
        "### Summary \n",
        "This file can be used to download a training set of high-resolution satellite images within a defined map extent. To begin, ensure that the *api_key* is defined. To generate an API key, follow the instructions on the [Maps Static API Developer page](https://developers.google.com/maps/documentation/maps-static/get-api-key). Then, define a *search_extent* for which high-resolution satellite tiles will be downloaded. \n",
        "\n",
        "Search extent may be defined as an extent box in lattitude and longitude pairs. Images are downloaded as 600x600 pixel tiles; while there is no defined stride (no overlap across images), this may be added using a defined extent box buffer. The desired output path may also be defined under *save_path*. "
      ]
    },
    {
      "cell_type": "code",
      "metadata": {
        "id": "NvPElHS1eO0K"
      },
      "source": [
        "from math import cos\n",
        "from math import pi\n",
        "import math"
      ],
      "execution_count": null,
      "outputs": []
    },
    {
      "cell_type": "code",
      "metadata": {
        "id": "YZla4MX7atGb"
      },
      "source": [
        "def get_bounds(c_lat, c_lng, zoom, w, h):\n",
        "\n",
        "    res_lat = (cos(c_lat * pi / 180.0) * 360.0) / (256 * 2 ** zoom)\n",
        "    res_lng = 360.0/(256 * 2 ** zoom)\n",
        "\n",
        "    return [(c_lat-((res_lat * h) / 2), c_lng-((res_lng * w) / 2)), \n",
        "            (c_lat+((res_lng * w) / 2), c_lng+((res_lng * w) / 2))]"
      ],
      "execution_count": 1,
      "outputs": []
    },
    {
      "cell_type": "markdown",
      "metadata": {
        "id": "81frRBFOhFMV"
      },
      "source": [
        "#### Download Satellite Images using Extent Area\n",
        "Using a defined square region, download collection of 600x600 high-resolution satellite imagery tiles. Resolution and image tile size may be changed by modifying defined constants."
      ]
    },
    {
      "cell_type": "code",
      "metadata": {
        "id": "tXhx6wM3hoj3"
      },
      "source": [
        "def download_area(api_key, search_extent, save_path):\n",
        "  # search extent format: [min_lat, max_lat, min_long, max_long]\n",
        "\n",
        "  centerLat = (search_extent[1] + search_extent[0]) / 2\n",
        "  centerLon = (search_extent[3] + search_extent[2]) / 2\n",
        "  zoom = 18\n",
        "  mapWidth = 600\n",
        "  mapHeight = 600\n",
        "  strides = get_bounds(centerLat, centerLon, zoom, mapWidth, mapHeight)\n",
        "  lat_stride = (strides[1][0] - strides[0][0])\n",
        "  lng_stride = (strides[1][1] - strides[0][1])\n",
        "\n",
        "  lat_range = search_extent[1] - search_extent[0]\n",
        "  lng_range = search_extent[3] - search_extent[2]\n",
        "\n",
        "  # request and downloadd images\n",
        "  counter = 1\n",
        "\n",
        "  for i in range(math.ceil(lat_range/lat_stride)):\n",
        "\n",
        "      for j in range(math.ceil(lng_range/lng_stride)):\n",
        "          centerLat = search_extent[0] + lat_stride*i\n",
        "          centerLon =search_extent[2] + lng_stride*j\n",
        "          zoom = 18\n",
        "          mapWidth = 600\n",
        "          mapHeight = 600\n",
        "          get_bounds(centerLat, centerLon, zoom, mapWidth, mapHeight)\n",
        "\n",
        "          full_file = (\"https://maps.googleapis.com/maps/api/staticmap?center=\" \n",
        "                    + str(centerLat) \n",
        "                    + \",\" + str(centerLon) + \n",
        "                    \"&zoom=\" + str(zoom) + \n",
        "                    \"&size=\" + str(mapWidth) + \"x\" \n",
        "                    + str(mapHeight) + \n",
        "                    \"&maptype=satellite&key=\" + api_key)\n",
        "\n",
        "          img_data = requests.get(full_file).content\n",
        "          with open(save_path + 'sat_tile' + str(counter) + '.jpg', 'wb') as handler:\n",
        "              handler.write(img_data)\n",
        "\n",
        "          counter += 1\n"
      ],
      "execution_count": 2,
      "outputs": []
    },
    {
      "cell_type": "markdown",
      "metadata": {
        "id": "fsLaucRLiYON"
      },
      "source": [
        "#### Download Satellite Images using Lat/Long Coordinates\n",
        "Download square tiles around defined coordinate set parameteer. Can be used to augment OSM data for market location prediction. "
      ]
    },
    {
      "cell_type": "code",
      "metadata": {
        "id": "HrzkikqNie4y"
      },
      "source": [
        "def download_locations(api_key, coord_file, save_path):\n",
        "  reg = pd.read_csv(coord_file)\n",
        "\n",
        "  for index, row in reg.iterrows():\n",
        "\n",
        "    lat = row['lat']\n",
        "    lon = row['long']\n",
        "    counter = 1 \n",
        "\n",
        "    if not math.isnan(lat) and not math.isnan(lon):\n",
        "      # row has data \n",
        "\n",
        "      if row[\"is_market\"] == 1:\n",
        "        # determined as market from OSM data, no need for satellite augmentation\n",
        "        augmented_markets.loc[len(augmented_markets)] = [row['region'], lat, lon, 1]\n",
        "      \n",
        "      else:\n",
        "        zoom = 19\n",
        "        mapWidth = 600\n",
        "        mapHeight = 600\n",
        "\n",
        "        full_file = (\"https://maps.googleapis.com/maps/api/staticmap?center=\" \n",
        "                  + str(lat) \n",
        "                  + \",\" + str(lon) + \n",
        "                  \"&zoom=\" + str(zoom) + \n",
        "                  \"&size=\" + str(mapWidth) + \"x\" \n",
        "                  + str(mapHeight) + \n",
        "                  \"&maptype=satellite&key=\" + api_key)\n",
        "\n",
        "        img_data = requests.get(full_file).content\n",
        "        with open('sat_tile' + str(counter) + '.jpg', 'wb') as handler:\n",
        "            handler.write(img_data)\n",
        "        counter += 1"
      ],
      "execution_count": 3,
      "outputs": []
    }
  ]
}