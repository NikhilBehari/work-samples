{
  "nbformat": 4,
  "nbformat_minor": 0,
  "metadata": {
    "colab": {
      "name": "building_detection.ipynb",
      "provenance": [],
      "collapsed_sections": []
    },
    "kernelspec": {
      "name": "python3",
      "display_name": "Python 3"
    }
  },
  "cells": [
    {
      "cell_type": "code",
      "metadata": {
        "id": "kDZfgl-r0UeW"
      },
      "source": [
        "! pip install -U segmentation-models\n",
        "! pip install q keras==2.3.1\n",
        "! pip install tensorflow==2.1.0\n",
        "\n",
        "import tensorflow as tf\n",
        "from tensorflow import keras\n",
        "from tensorflow.keras.preprocessing import image\n",
        "import segmentation_models as sm\n",
        "from skimage import measure\n",
        "from skimage import filters\n",
        "from scipy.spatial import cKDTree\n",
        "from scipy import inf\n",
        "import pandas as pd "
      ],
      "execution_count": 10,
      "outputs": []
    },
    {
      "cell_type": "markdown",
      "metadata": {
        "id": "we7c5xht4pm4"
      },
      "source": [
        "#### Count number of buildings around coordinates using OSM\n",
        "Given a list of place locations and building locations, determine the number of buildings within a defined radius of each location. Uses **k-d tree** to implement nearest-neighbor lookup. "
      ]
    },
    {
      "cell_type": "code",
      "metadata": {
        "id": "_lNsicr94pG0"
      },
      "source": [
        "def count_osm_buildings(places_path, buildings_path, out_path):\n",
        "  places = pd.read_csv(places_path)\n",
        "  buildings = pd.read_csv(buildings_path)\n",
        "\n",
        "  subset = places[['x', 'y']]\n",
        "  places = [tuple(x) for x in subset.to_numpy()]\n",
        "\n",
        "  subset = buildings[['x', 'y']]\n",
        "  buildings = [tuple(x) for x in subset.to_numpy()]\n",
        "\n",
        "  point_tree = spatial.cKDTree(buildings)\n",
        "  df_building_count = pd.DataFrame(columns=['long', 'lat', 'building-count'])\n",
        "  for place in places:\n",
        "    df_building_count.loc[len(df_building_count)] = [place[0], place[1], len(point_tree.query_ball_point(place, 0.0045))]\n",
        "\n",
        "  print(df_building_count)\n",
        "\n",
        "  df_building_count.to_csv(out_path)"
      ],
      "execution_count": null,
      "outputs": []
    },
    {
      "cell_type": "markdown",
      "metadata": {
        "id": "lHThQBb00VFs"
      },
      "source": [
        "#### Count number of buildings from binary segmentation mask\n",
        "Use **connected components** to count the number of buildings predicted within an image tile mask. "
      ]
    },
    {
      "cell_type": "code",
      "metadata": {
        "id": "oGIzuwYt0RnZ"
      },
      "source": [
        "def count_satellite_buildings(model_path, im_path):\n",
        "  # load model \n",
        "  dependencies = {\n",
        "      'iou_score': sm.metrics.iou_score,\n",
        "      'precision': sm.metrics.precision,\n",
        "      'recall': sm.metrics.recall\n",
        "  }\n",
        "\n",
        "  model_load = keras.models.load_model(model_path, custom_objects=dependencies)\n",
        "\n",
        "  # load sample image\n",
        "  img = image.load_img(im_path, target_size=(512, 512))\n",
        "  x = image.img_to_array(img)\n",
        "  x = np.expand_dims(x, axis=0)\n",
        "\n",
        "  mask = model_load.predict(x).round()\n",
        "  im_mask = image.array_to_img(mask[0])\n",
        "\n",
        "  im = np.array(im_mask)\n",
        "  all_labels = measure.label(im)\n",
        "  b_count = measure.label(im, background=0, connectivity=2, return_num=True)\n",
        "\n",
        "  return b_count[1]"
      ],
      "execution_count": 2,
      "outputs": []
    }
  ]
}